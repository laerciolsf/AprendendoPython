{
 "cells": [
  {
   "cell_type": "markdown",
   "metadata": {},
   "source": [
    "# Estrutura while:\n",
    "\n",
    "### Funcionamento:\n",
    "\n",
    "Usamos o while quando queremos repetir um código de forma indeterminada até uma condição se tornar verdadeira/falsa.\n",
    "\n",
    "A lógica é: enquanto a condição for verdadeira, o while executa o código. Assim que ela terminar de ser verdadeira, o código \"sai\" do while."
   ]
  },
  {
   "cell_type": "raw",
   "metadata": {},
   "source": [
    "while condicao:\n",
    "    repete esse código"
   ]
  },
  {
   "cell_type": "markdown",
   "metadata": {},
   "source": [
    "- Exemplo: Quando criamos automações na internet\n",
    "- Exemplo2: Crie um programa que funcione como o registro de vendas de uma empresa.\n",
    "\n",
    "Nele, a pessoa deve inserir o nome do produto e o produto deve ser adicionado na lista de venda. Enquanto o usuário não encerrar o programa, significa que ele está registrando novos produtos, então o programa deve permitir e entrada de quantos produtos o usuário quiser."
   ]
  },
  {
   "cell_type": "code",
   "execution_count": 3,
   "metadata": {},
   "outputs": [
    {
     "name": "stdout",
     "output_type": "stream",
     "text": [
      "Registre um produto. Para cancelar o registro de um novo produto, basta apertar enter com a caixa vaziafgdfg\n",
      "Registre um produto, para cancelar basta presionar enter um uma caixa vazia.sdfgdfg\n",
      "Registre um produto, para cancelar basta presionar enter um uma caixa vazia.sdfgsdfg\n",
      "Registre um produto, para cancelar basta presionar enter um uma caixa vazia.sdfgsdfg\n",
      "Registre um produto, para cancelar basta presionar enter um uma caixa vazia.sdgsdfg\n",
      "Registre um produto, para cancelar basta presionar enter um uma caixa vazia.sdfgdfg\n",
      "Registre um produto, para cancelar basta presionar enter um uma caixa vazia.sdfgdfg\n",
      "Registre um produto, para cancelar basta presionar enter um uma caixa vazia.sdfgsdfgs\n",
      "Registre um produto, para cancelar basta presionar enter um uma caixa vazia.sdfgdfg\n",
      "Registre um produto, para cancelar basta presionar enter um uma caixa vazia.dfgdfgdfgdsf\n",
      "Registre um produto, para cancelar basta presionar enter um uma caixa vazia.sdfgqasdfr\n",
      "Registre um produto, para cancelar basta presionar enter um uma caixa vazia.qewffrgt\n",
      "Registre um produto, para cancelar basta presionar enter um uma caixa vazia.rthtw\n",
      "Registre um produto, para cancelar basta presionar enter um uma caixa vazia.laio\n",
      "Registre um produto, para cancelar basta presionar enter um uma caixa vazia.\n",
      "Registro Finalizado. As vendas cadastradas foram: ['fgdfg', 'sdfgdfg', 'sdfgsdfg', 'sdfgsdfg', 'sdgsdfg', 'sdfgdfg', 'sdfgdfg', 'sdfgsdfgs', 'sdfgdfg', 'dfgdfgdfgdsf', 'sdfgqasdfr', 'qewffrgt', 'rthtw', 'laio']\n"
     ]
    }
   ],
   "source": [
    "venda = input('Registre um produto. Para cancelar o registro de um novo produto, basta apertar enter com a caixa vazia')\n",
    "vendas = []\n",
    "\n",
    "#crie aqui o programa\n",
    "while venda != '':\n",
    "    vendas.append(venda)\n",
    "    venda = input('Registre um produto, para cancelar basta presionar enter um uma caixa vazia.')\n",
    " \n",
    "\n",
    "\n",
    "print('Registro Finalizado. As vendas cadastradas foram: {}'.format(vendas))"
   ]
  }
 ],
 "metadata": {
  "kernelspec": {
   "display_name": "Python 3 (ipykernel)",
   "language": "python",
   "name": "python3"
  },
  "language_info": {
   "codemirror_mode": {
    "name": "ipython",
    "version": 3
   },
   "file_extension": ".py",
   "mimetype": "text/x-python",
   "name": "python",
   "nbconvert_exporter": "python",
   "pygments_lexer": "ipython3",
   "version": "3.9.13"
  }
 },
 "nbformat": 4,
 "nbformat_minor": 4
}
