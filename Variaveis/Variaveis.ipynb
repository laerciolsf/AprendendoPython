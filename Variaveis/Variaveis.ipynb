{
 "cells": [
  {
   "cell_type": "code",
   "execution_count": 13,
   "id": "9b7186e1",
   "metadata": {},
   "outputs": [
    {
     "name": "stdout",
     "output_type": "stream",
     "text": [
      "Digite faturamento:65564\n",
      "Digite o custo:4565464\n",
      "<class 'int'>\n",
      "<class 'int'>\n",
      "8499\n"
     ]
    }
   ],
   "source": [
    "faturamento = int(input(\"Digite faturamento:\"))\n",
    "custo = int(input(\"Digite o custo:\"))\n",
    "\n",
    "print(type(faturamento))\n",
    "print(type(custo))\n",
    "\n",
    "print(lucro)\n",
    "\n",
    "lucro = faturamento - custo\n",
    "\n"
   ]
  }
 ],
 "metadata": {
  "kernelspec": {
   "display_name": "Python 3 (ipykernel)",
   "language": "python",
   "name": "python3"
  },
  "language_info": {
   "codemirror_mode": {
    "name": "ipython",
    "version": 3
   },
   "file_extension": ".py",
   "mimetype": "text/x-python",
   "name": "python",
   "nbconvert_exporter": "python",
   "pygments_lexer": "ipython3",
   "version": "3.9.13"
  }
 },
 "nbformat": 4,
 "nbformat_minor": 5
}
