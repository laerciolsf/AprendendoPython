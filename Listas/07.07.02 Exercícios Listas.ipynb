{
 "cells": [
  {
   "cell_type": "markdown",
   "metadata": {},
   "source": [
    "# Exercícios\n",
    "\n",
    "## 1. Faturamento do Melhor e do Pior Mês do Ano\n",
    "\n",
    "Qual foi o valor de vendas do melhor mês do Ano?\n",
    "E valor do pior mês do ano?"
   ]
  },
  {
   "cell_type": "code",
   "execution_count": 12,
   "metadata": {},
   "outputs": [
    {
     "name": "stdout",
     "output_type": "stream",
     "text": [
      "O mês que mais vendeu foi: nov\n",
      "Com um total de: 49051\n"
     ]
    }
   ],
   "source": [
    "meses = ['jan', 'fev', 'mar', 'abr', 'mai', 'jun', 'jul', 'ago', 'set', 'out', 'nov', 'dez']\n",
    "vendas_1sem = [25000, 29000, 22200, 17750, 15870, 19900]\n",
    "vendas_2sem = [19850, 20120, 17540, 15555, 49051, 9650]\n",
    "\n",
    "vendas_1sem.extend(vendas_2sem)\n",
    "\n",
    "maiorValor = max(vendas_1sem)\n",
    "\n",
    "i = vendas_1sem.index(maiorValor)\n",
    "print('O mês que mais vendeu foi: {}\\nCom um total de: {}'.format(meses[i],maiorValor))\n",
    "\n",
    "\n"
   ]
  },
  {
   "cell_type": "markdown",
   "metadata": {},
   "source": [
    "## 2. Continuação\n",
    "\n",
    "Agora relacione as duas listas para printar 'O melhor mês do ano foi {} com {} vendas' e o mesmo para o pior mês do ano.\n",
    "\n",
    "Calcule também o faturamento total do Ano e quanto que o melhor mês representou do faturamento total.\n",
    "\n",
    "Obs: Para o faturamento total, pode usar a função sum(lista) que soma todos os itens de uma lista"
   ]
  },
  {
   "cell_type": "code",
   "execution_count": 17,
   "metadata": {},
   "outputs": [
    {
     "name": "stdout",
     "output_type": "stream",
     "text": [
      "O mês que mais vendeu foi: nov\n",
      "Com um total de: 49051\n",
      "\n",
      "O mês que menos vendeu foi: dez\n",
      "Com um total de: 9650\n",
      "\n",
      "O total de vendas no ano foi de: 920316\n",
      "\n"
     ]
    }
   ],
   "source": [
    "vendas_1sem.extend(vendas_2sem)\n",
    "\n",
    "maiorValor = max(vendas_1sem)\n",
    "\n",
    "i = vendas_1sem.index(maiorValor)\n",
    "print('O mês que mais vendeu foi: {}\\nCom um total de: {}\\n'.format(meses[i],maiorValor))\n",
    "\n",
    "menorValor = min(vendas_1sem)\n",
    "\n",
    "i = vendas_1sem.index(menorValor)\n",
    "print('O mês que menos vendeu foi: {}\\nCom um total de: {}\\n'.format(meses[i],menorValor))\n",
    "\n",
    "totalVendas = sum(vendas_1sem)\n",
    "print('O total de vendas no ano foi de: {}\\n'.format(totalVendas))\n"
   ]
  },
  {
   "cell_type": "markdown",
   "metadata": {},
   "source": [
    "## 3. Crie uma lista com o top 3 valores de vendas do ano (sem fazer \"no olho\")\n",
    "\n",
    "Dica: o método remove retira um item da lista."
   ]
  },
  {
   "cell_type": "code",
   "execution_count": 2,
   "metadata": {},
   "outputs": [],
   "source": [
    "top3 = []"
   ]
  }
 ],
 "metadata": {
  "kernelspec": {
   "display_name": "Python 3 (ipykernel)",
   "language": "python",
   "name": "python3"
  },
  "language_info": {
   "codemirror_mode": {
    "name": "ipython",
    "version": 3
   },
   "file_extension": ".py",
   "mimetype": "text/x-python",
   "name": "python",
   "nbconvert_exporter": "python",
   "pygments_lexer": "ipython3",
   "version": "3.9.13"
  }
 },
 "nbformat": 4,
 "nbformat_minor": 4
}
