{
 "cells": [
  {
   "cell_type": "markdown",
   "metadata": {},
   "source": [
    "# Não confie na ordem dos dicionários, use as chaves\n",
    "\n",
    "### Python Versões Antigas x Versões Novas\n",
    "\n",
    "- Dicionários eram \"sem ordem\". Atualmente tem ordem, mas o certo é usar as chaves\n",
    "- 2 formas de pegar um valor:\n",
    "    - dicionario[chave]\n",
    "    - .get(chave)"
   ]
  },
  {
   "cell_type": "code",
   "execution_count": 21,
   "metadata": {},
   "outputs": [],
   "source": [
    "mais_vendidos = {'tecnologia': 'iphone', 'refrigeracao': 'ar consul 12000 btu',\n",
    "                 'livros': 'o alquimista','eletrodoméstico': 'geladeira', 'lazer': 'prancha surf'}\n",
    "\n",
    "vendas_tecnologia = {'iphone': 15000, 'samsung galaxy': 12000, 'tv samsung': 10000, 'ps5': 14300,\n",
    "                     'tablet': 1720,'ipad': 1000, 'tv philco': 2500, 'notebook hp': 1000,\n",
    "                     'notebook dell': 17000,'notebook asus': 2450}"
   ]
  },
  {
   "cell_type": "markdown",
   "metadata": {},
   "source": [
    "- Qual foi o item mais vendido nas categorias 'livros' e 'lazer'?\n",
    "- Quanto foi vendido de 'notebook asus' e de 'ipad'?"
   ]
  },
  {
   "cell_type": "code",
   "execution_count": 22,
   "metadata": {},
   "outputs": [
    {
     "name": "stdout",
     "output_type": "stream",
     "text": [
      "O item mais vendido na categoria livros foi: o alquimista\n",
      "O item mais vendido na categoria lazer foi: prancha surf\n",
      "Vendemos 2450 notebooks\n",
      "Vendemos 1000 ipads\n"
     ]
    }
   ],
   "source": [
    "# respondendo com a chave, igual a aula anterior\n",
    "print('O item mais vendido na categoria livros foi: {}'.format(mais_vendidos['livros']))\n",
    "print('O item mais vendido na categoria lazer foi: {}'.format(mais_vendidos['lazer']))\n",
    "# respondendo com o método get\n",
    "print('Vendemos {} notebooks'.format(vendas_tecnologia.get('notebook asus')))\n",
    "print('Vendemos {} ipads'.format(vendas_tecnologia.get('ipad')))\n"
   ]
  },
  {
   "cell_type": "markdown",
   "metadata": {},
   "source": [
    "### Verificar se item está no dicionário:\n",
    "\n",
    "- if\n",
    "- .get(chave) = None\n",
    "\n",
    "Se tentarmos procurar as vendas de \"copo\" na lista de vendas tecnologia, o que acontece?"
   ]
  },
  {
   "cell_type": "code",
   "execution_count": 17,
   "metadata": {},
   "outputs": [
    {
     "name": "stdout",
     "output_type": "stream",
     "text": [
      "Copo não encontrado!\n",
      "Copo não encontrado!\n"
     ]
    }
   ],
   "source": [
    "if 'copos' in vendas_tecnologia:\n",
    "    print('qtde de copos é de: {}'.format(vendas_tecnologia['copos']))\n",
    "else: \n",
    "    print('Copo não encontrado!')\n",
    "    \n",
    "    \n",
    "if vendas_tecnologia.get('Copos') == None:\n",
    "    print('Copo não encontrado!')\n",
    "else:\n",
    "    print('Qtde copos é de: {}'.format(vendas_tecnologia.get('Copos')))"
   ]
  }
 ],
 "metadata": {
  "kernelspec": {
   "display_name": "Python 3 (ipykernel)",
   "language": "python",
   "name": "python3"
  },
  "language_info": {
   "codemirror_mode": {
    "name": "ipython",
    "version": 3
   },
   "file_extension": ".py",
   "mimetype": "text/x-python",
   "name": "python",
   "nbconvert_exporter": "python",
   "pygments_lexer": "ipython3",
   "version": "3.9.13"
  }
 },
 "nbformat": 4,
 "nbformat_minor": 4
}
