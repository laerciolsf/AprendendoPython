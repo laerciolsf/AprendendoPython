{
 "cells": [
  {
   "cell_type": "code",
   "execution_count": 19,
   "id": "6e8131ed",
   "metadata": {},
   "outputs": [
    {
     "name": "stdout",
     "output_type": "stream",
     "text": [
      "qual o seu nome:laio\n",
      "subrenome:soares\n"
     ]
    }
   ],
   "source": [
    "nome = input(\"qual o seu nome:\")\n",
    "sobrenome = input(\"subrenome:\")"
   ]
  },
  {
   "cell_type": "code",
   "execution_count": 20,
   "id": "8c4b4706",
   "metadata": {},
   "outputs": [
    {
     "name": "stdout",
     "output_type": "stream",
     "text": [
      "laio soares\n"
     ]
    }
   ],
   "source": [
    "print (nome + \" \" + sobrenome)"
   ]
  },
  {
   "cell_type": "code",
   "execution_count": null,
   "id": "c6a3ba43",
   "metadata": {},
   "outputs": [],
   "source": []
  }
 ],
 "metadata": {
  "kernelspec": {
   "display_name": "Python 3 (ipykernel)",
   "language": "python",
   "name": "python3"
  },
  "language_info": {
   "codemirror_mode": {
    "name": "ipython",
    "version": 3
   },
   "file_extension": ".py",
   "mimetype": "text/x-python",
   "name": "python",
   "nbconvert_exporter": "python",
   "pygments_lexer": "ipython3",
   "version": "3.9.13"
  }
 },
 "nbformat": 4,
 "nbformat_minor": 5
}
